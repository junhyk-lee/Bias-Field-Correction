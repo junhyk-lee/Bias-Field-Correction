{
 "cells": [
  {
   "cell_type": "code",
   "execution_count": null,
   "metadata": {},
   "outputs": [],
   "source": [
    "import os\n",
    "import shutil\n",
    "import tempfile\n",
    "import nibabel as nib\n",
    "\n",
    "import os\n",
    "import matplotlib.pyplot as plt\n",
    "import numpy as np\n",
    "import shutil\n",
    "import tempfile\n",
    "import torch\n",
    "import torch.nn as nn\n",
    "from torch.nn import MSELoss\n",
    "from monai.apps import download_url, download_and_extract\n",
    "from monai.config import print_config\n",
    "from monai.data import DataLoader, Dataset, CacheDataset\n",
    "from monai.losses import BendingEnergyLoss, MultiScaleLoss, DiceLoss, SSIMLoss\n",
    "from monai.metrics import DiceMetric\n",
    "from monai.networks.blocks import Warp\n",
    "from monai.networks.nets import LocalNet\n",
    "from monai.transforms import *\n",
    "from monai.utils import set_determinism, first\n",
    "\n",
    "from math import log10\n",
    "\n",
    "import tqdm\n",
    "from tqdm import tqdm\n",
    "\n",
    "import torchvision\n",
    "from torchvision import transforms \n",
    "import torch.nn.functional as F\n",
    "\n",
    "import os\n",
    "from monai.config import print_config\n",
    "from monai.data import (\n",
    "    ArrayDataset, GridPatchDataset, create_test_image_3d, PatchIter)\n",
    "from monai.transforms import *\n",
    "\n",
    "print_config()"
   ]
  },
  {
   "cell_type": "code",
   "execution_count": null,
   "metadata": {},
   "outputs": [],
   "source": [
    "import pandas as pd\n",
    "\n",
    "df = pd.read_csv('psycho_2d_ddpm.csv')\n",
    "len(df)"
   ]
  },
  {
   "cell_type": "code",
   "execution_count": null,
   "metadata": {
    "scrolled": true
   },
   "outputs": [],
   "source": [
    "df_t = df[:6000]\n",
    "# df_v = df[-200:-150]\n",
    "df_ts = df[-780:]\n",
    "len(df_t),len(df_ts)"
   ]
  },
  {
   "cell_type": "code",
   "execution_count": null,
   "metadata": {},
   "outputs": [],
   "source": [
    "df_t.iloc[0,0]"
   ]
  },
  {
   "cell_type": "code",
   "execution_count": null,
   "metadata": {},
   "outputs": [],
   "source": [
    "df_t.iloc[0,1]"
   ]
  },
  {
   "cell_type": "code",
   "execution_count": null,
   "metadata": {},
   "outputs": [],
   "source": [
    "train_images1 = df_t['orig'].tolist()\n",
    "train_images2 = df_t['bf'].tolist()\n",
    "train_images3 = df_t['n4'].tolist()\n",
    "\n",
    "data_dicts_tr = [\n",
    "    {'orig': image_name1, \"bf\": image_name2, \"n4\": image_name3}\n",
    "    for image_name1, image_name2, image_name3 in zip(train_images1, train_images2, train_images3)\n",
    "]\n",
    "\n",
    "train_files = data_dicts_tr\n",
    "print('train dataset num: ', len(train_files))"
   ]
  },
  {
   "cell_type": "code",
   "execution_count": null,
   "metadata": {},
   "outputs": [],
   "source": [
    "ts_images1 = df_ts['orig'].tolist()\n",
    "ts_images2 = df_ts['bf'].tolist()\n",
    "ts_images3 = df_ts['n4'].tolist()\n",
    "\n",
    "data_dicts_ts = [\n",
    "    {'orig': image_name1, \"bf\": image_name2, \"n4\": image_name3}\n",
    "    for image_name1, image_name2, image_name3 in zip(ts_images1, ts_images2, ts_images3)\n",
    "]\n",
    "\n",
    "ts_files = data_dicts_ts\n",
    "print('train dataset num: ', len(ts_files))"
   ]
  },
  {
   "cell_type": "code",
   "execution_count": null,
   "metadata": {},
   "outputs": [],
   "source": [
    "IMG_SIZE = 256\n",
    "transforms.Lambda(lambda t: (t * 2) - 1) # Scale between [-1, 1]\n",
    "train_transforms0 = Compose(\n",
    "    [\n",
    "        LoadImaged(keys=['orig', 'bf', 'n4']),\n",
    "        EnsureChannelFirstd(keys=['orig', 'bf', 'n4']),\n",
    "        ScaleIntensityd(\n",
    "                keys=['orig', 'bf', 'n4'],\n",
    "                minv=0.0,\n",
    "                maxv=1.0,\n",
    "            ), \n",
    "\n",
    "#         RandShiftIntensityd(\n",
    "#             keys=[\"image1\"],\n",
    "#             offsets=0.10,\n",
    "#             prob=0.5,\n",
    "#         ),        #    \n",
    "        \n",
    "#         RandZoomd(\n",
    "#             keys=[\"image1\", \"seg\"],\n",
    "#             prob = 0.75,\n",
    "#             min_zoom = 0.9,\n",
    "#             max_zoom = 1.2,\n",
    "#             mode = ['area','nearest']\n",
    "#         ),\n",
    "            \n",
    "        Resized(keys=['orig', 'bf', 'n4'], spatial_size=(IMG_SIZE, IMG_SIZE)),        \n",
    "\n",
    "        ToTensord(keys=['orig', 'bf', 'n4']),\n",
    "    ]\n",
    ")"
   ]
  },
  {
   "cell_type": "code",
   "execution_count": null,
   "metadata": {},
   "outputs": [],
   "source": [
    "IMG_SIZE = 256\n",
    "transforms.Lambda(lambda t: (t * 2) - 1) # Scale between [-1, 1]\n",
    "ts_transforms0 = Compose(\n",
    "    [\n",
    "        LoadImaged(keys=['orig', 'bf', 'n4']),\n",
    "        EnsureChannelFirstd(keys=['orig', 'bf', 'n4']),\n",
    "        ScaleIntensityd(\n",
    "                keys=['orig', 'bf', 'n4'],\n",
    "                minv=0.0,\n",
    "                maxv=1.0,\n",
    "            ), \n",
    "\n",
    "#         RandShiftIntensityd(\n",
    "#             keys=[\"image1\"],\n",
    "#             offsets=0.10,\n",
    "#             prob=0.5,\n",
    "#         ),        #    \n",
    "        \n",
    "#         RandZoomd(\n",
    "#             keys=[\"image1\", \"seg\"],\n",
    "#             prob = 0.75,\n",
    "#             min_zoom = 0.9,\n",
    "#             max_zoom = 1.2,\n",
    "#             mode = ['area','nearest']\n",
    "#         ),\n",
    "            \n",
    "        Resized(keys=['orig', 'bf', 'n4'], spatial_size=(IMG_SIZE, IMG_SIZE)),        \n",
    "\n",
    "        ToTensord(keys=['orig', 'bf', 'n4']),\n",
    "    ]\n",
    ")\n"
   ]
  },
  {
   "cell_type": "code",
   "execution_count": null,
   "metadata": {},
   "outputs": [],
   "source": [
    "# valid_transforms0 = Compose(\n",
    "#     [\n",
    "#         LoadImaged(keys=[\"img\",\"gt\"]),\n",
    "#         EnsureChannelFirstd(keys=[\"img\",\"gt\"]),\n",
    "#         ScaleIntensityd(\n",
    "#                 keys=[\"img\", 'gt'],\n",
    "#                 minv=0.0,\n",
    "#                 maxv=1.0,\n",
    "#             ), \n",
    "\n",
    "# #         RandShiftIntensityd(\n",
    "# #             keys=[\"image1\"],\n",
    "# #             offsets=0.10,\n",
    "# #             prob=0.5,\n",
    "# #         ),        #    \n",
    "        \n",
    "# #         RandZoomd(\n",
    "# #             keys=[\"image1\", \"seg\"],\n",
    "# #             prob = 0.75,\n",
    "# #             min_zoom = 0.9,\n",
    "# #             max_zoom = 1.2,\n",
    "# #             mode = ['area','nearest']\n",
    "# #         ),\n",
    "            \n",
    "# #         SpatialPadd(keys=[\"img\",\"gt\"], spatial_size=(256, 256, 256)),        \n",
    "\n",
    "\n",
    "# #         RandSpatialCropd(keys=[\"img\",\"gt\"],\n",
    "# #                          roi_size=(128, 128, 128), \n",
    "# #                          max_roi_size=None, \n",
    "# #                          random_center=True, \n",
    "# #                          random_size=False\n",
    "# #                         ),\n",
    "\n",
    "#         ToTensord(keys=[\"img\",\"gt\"]),\n",
    "#     ]\n",
    "# )"
   ]
  },
  {
   "cell_type": "code",
   "execution_count": null,
   "metadata": {},
   "outputs": [],
   "source": [
    "ts_ds0 = CacheDataset(\n",
    "    data=ts_files,\n",
    "    transform=ts_transforms0,\n",
    ")\n",
    "ts_BATCH_SIZE = 1\n",
    "ts_loader = DataLoader(\n",
    "    ts_ds0, batch_size=ts_BATCH_SIZE, shuffle=True, \n",
    ")\n",
    "device = 'cpu'"
   ]
  },
  {
   "cell_type": "code",
   "execution_count": null,
   "metadata": {},
   "outputs": [],
   "source": [
    "train_ds0 = CacheDataset(\n",
    "    data=train_files,\n",
    "    transform=train_transforms0,\n",
    ")\n",
    "BATCH_SIZE = 8\n",
    "train_loader = DataLoader(\n",
    "    train_ds0, batch_size=BATCH_SIZE, shuffle=True, \n",
    ")\n",
    "device = 'cpu'"
   ]
  },
  {
   "cell_type": "code",
   "execution_count": null,
   "metadata": {
    "scrolled": false
   },
   "outputs": [],
   "source": [
    "# for step, batch_data in enumerate(train_loader):\n",
    "#     x, y = (\n",
    "#         batch_data[\"orig\"].to(device),\n",
    "#         batch_data[\"n4\"].to(device),\n",
    "#     )\n",
    "    \n",
    "#     plt.imshow(x[0, 0])\n",
    "#     plt.show()\n",
    "#     plt.imshow(y[0, 0])\n",
    "#     plt.show()"
   ]
  },
  {
   "cell_type": "markdown",
   "metadata": {},
   "source": [
    "# Forwad Process"
   ]
  },
  {
   "attachments": {
    "image.png": {
     "image/png": "[encoded data removed]"
    }
   },
   "cell_type": "markdown",
   "metadata": {},
   "source": [
    "![image.png](attachment:image.png)"
   ]
  },
  {
   "attachments": {
    "image.png": {
     "image/png": "[encoded data removed]"
    }
   },
   "cell_type": "markdown",
   "metadata": {},
   "source": [
    "![image.png](attachment:image.png)"
   ]
  },
  {
   "cell_type": "markdown",
   "metadata": {},
   "source": [
    "https://www.assemblyai.com/blog/diffusion-models-for-machine-learning-introduction/"
   ]
  },
  {
   "cell_type": "code",
   "execution_count": null,
   "metadata": {},
   "outputs": [],
   "source": [
    "import numpy as np\n",
    "import matplotlib.pyplot as plt\n",
    "from scipy.stats import cauchy"
   ]
  },
  {
   "cell_type": "code",
   "execution_count": null,
   "metadata": {},
   "outputs": [],
   "source": [
    "def make_beta_schedule(schedule, timesteps, start=1e-5, end=1e-2):\n",
    "    if schedule == 'linear':\n",
    "        betas = torch.linspace(start, end, timesteps)\n",
    "    elif schedule == \"quad\":\n",
    "        betas = torch.linspace(start ** 0.5, end ** 0.5, timesteps) ** 2\n",
    "    elif schedule == \"sigmoid\":\n",
    "        betas = torch.linspace(-6, 6, timesteps)\n",
    "        betas = torch.sigmoid(betas) * (end - start) + start\n",
    "    return betas ## float64 for accuracy\n",
    "\n",
    "def get_index_from_list(vals, t, x_shape):\n",
    "    \"\"\" \n",
    "    Returns a specific index t of a passed list of values vals\n",
    "    while considering the batch dimension.\n",
    "    \"\"\"\n",
    "    btc = t.shape[0]\n",
    "#     btc = t\n",
    "    out = vals.gather(-1, t.cpu())\n",
    "    o = out.reshape(btc, *((1,) * (len(x_shape) - 1)))\n",
    "    return o.to(device)\n",
    "\n",
    "def hampel(a,size):\n",
    "    fn = np.random.normal(loc=0, scale=1, size=(size))\n",
    "    fc = cauchy.rvs(loc=0.7053, scale=0.0953, size=(size))\n",
    "    fh = (1-a)*fn + a*fc\n",
    "    fh = torch.tensor(fh)\n",
    "    return fh\n",
    "\n",
    "def forward_diffusion_sample(noise, x_0, t, device=\"cpu\"):\n",
    "    \"\"\" \n",
    "    Takes an image and a timestep as input and \n",
    "    returns the noisy version of it\n",
    "    \"\"\"\n",
    "    if noise == \"gaussian\":\n",
    "        noise = np.random.normal(size=x_0.shape)\n",
    "        noise = torch.tensor(noise)\n",
    "    elif noise == \"cauchy\":\n",
    "        noise = np.random.standard_cauchy(x_0.shape)\n",
    "        noise = torch.tensor(noise)\n",
    "    elif noise == \"hampel\":\n",
    "        noise = hampel(1e-06, x_0.shape)\n",
    "    \n",
    "    x_0 = torch.Tensor(x_0)\n",
    "    sqrt_alphas_cumprod_t = get_index_from_list(sqrt_alphas_cumprod, t, x_0.shape)\n",
    "    sqrt_one_minus_alphas_cumprod_t = get_index_from_list(\n",
    "        sqrt_one_minus_alphas_cumprod, t, x_0.shape\n",
    "    )\n",
    "    # mean + variance\n",
    "#     print(\"sqrt_alphas_cumprod_t : \",sqrt_alphas_cumprod_t)\n",
    "#     print(\"sqrt_one_minus_alphas_cumprod_t : \", sqrt_one_minus_alphas_cumprod_t)\n",
    "    return sqrt_alphas_cumprod_t.to(device) * x_0.to(device) \\\n",
    "    + sqrt_one_minus_alphas_cumprod_t.to(device) * noise.to(device), noise.to(device)\n",
    "\n",
    "\n",
    "# Define beta schedule\n",
    "T = 1000\n",
    "# betas = linear_beta_schedule(timesteps=T)\n",
    "betas = make_beta_schedule(schedule='linear', timesteps=T)\n",
    "\n",
    "# Pre-calculate different terms for closed form\n",
    "alphas = 1. - betas\n",
    "alphas_cumprod = torch.cumprod(alphas, axis=0)\n",
    "alphas_cumprod_prev = F.pad(alphas_cumprod[:-1], (1, 0), value=1.0)\n",
    "sqrt_recip_alphas = torch.sqrt(1.0/alphas)\n",
    "sqrt_alphas_cumprod = torch.sqrt(alphas_cumprod)\n",
    "sqrt_one_minus_alphas_cumprod = torch.sqrt(1. - alphas_cumprod)\n",
    "posterior_variance = betas * (1. - alphas_cumprod_prev) / (1. - alphas_cumprod)"
   ]
  },
  {
   "cell_type": "code",
   "execution_count": null,
   "metadata": {},
   "outputs": [],
   "source": [
    "posterior_mean_coef_1 = (betas * torch.sqrt(alphas_cumprod_prev) / (1 - alphas_cumprod))\n",
    "posterior_mean_coef_2 = ((1 - alphas_cumprod_prev) * torch.sqrt(alphas) / (1 - alphas_cumprod))\n",
    "posterior_variance = betas * (1 - alphas_cumprod_prev) / (1 - alphas_cumprod)\n",
    "posterior_log_variance_clipped = torch.log(torch.cat((posterior_variance[1].view(1, 1), posterior_variance[1:].view(-1, 1)), 0)).view(-1)\n",
    "\n",
    "def q_posterior_mean_variance(x_0, x_t, t):\n",
    "    coef_1 = get_index_from_list(posterior_mean_coef_1, t, x_0)\n",
    "#     coef_1 = extract(posterior_mean_coef_1, t, x_0)\n",
    "    coef_2 = get_index_from_list(posterior_mean_coef_2, t, x_0)\n",
    "    mean = coef_1 * x_0 + coef_2 * x_t\n",
    "    var = get_index_from_list(posterior_log_variance_clipped, t, x_0)\n",
    "    return mean, var"
   ]
  },
  {
   "cell_type": "code",
   "execution_count": null,
   "metadata": {},
   "outputs": [],
   "source": [
    "def show_tensor_image(image):\n",
    "    reverse_transforms = transforms.Compose([\n",
    "        transforms.Lambda(lambda t: (t + 1) / 2),\n",
    "        transforms.Lambda(lambda t: t.permute(1, 2, 0)), # CHW to HWC\n",
    "        transforms.Lambda(lambda t: t * 255.),\n",
    "        transforms.Lambda(lambda t: t.numpy().astype(np.uint8)),\n",
    "        transforms.ToPILImage(),\n",
    "    ])\n",
    "\n",
    "    # Take first image of batch\n",
    "    if len(image.shape) == 4:\n",
    "        image = image[0, :, :, :]\n",
    "    else:\n",
    "        image = image\n",
    "    plt.imshow(reverse_transforms(image), cmap='jet')\n",
    "    plt.axis(\"off\")"
   ]
  },
  {
   "cell_type": "code",
   "execution_count": null,
   "metadata": {},
   "outputs": [],
   "source": [
    "batch = first(train_loader)\n",
    "a,b,c = batch['orig'], batch['bf'], batch['n4']"
   ]
  },
  {
   "cell_type": "code",
   "execution_count": null,
   "metadata": {},
   "outputs": [],
   "source": [
    "plt.figure(figsize=(8,8))\n",
    "plt.axis(\"off\")\n",
    "plt.subplot(141)\n",
    "plt.imshow(a[0][0], cmap='jet')\n",
    "plt.title(\"Original\")\n",
    "plt.axis(\"off\")\n",
    "plt.subplot(142)\n",
    "plt.imshow(b[0][0], cmap='jet')\n",
    "plt.title(\"BF\")\n",
    "plt.axis(\"off\")\n",
    "plt.subplot(143)\n",
    "plt.imshow(c[0,0,:,:], cmap='jet')\n",
    "plt.title(\"N4\")\n",
    "plt.axis(\"off\")\n",
    "plt.subplot(144)\n",
    "plt.imshow(np.abs(a[0,0,:,:] - c[0,0,:,:]), cmap='jet')\n",
    "plt.title(\"Difference\")\n",
    "plt.axis(\"off\")\n",
    "\n",
    "plt.show()"
   ]
  },
  {
   "cell_type": "code",
   "execution_count": null,
   "metadata": {},
   "outputs": [],
   "source": [
    "noises = [\"gaussian\",\"cauchy\",\"hampel\"]"
   ]
  },
  {
   "cell_type": "code",
   "execution_count": null,
   "metadata": {},
   "outputs": [],
   "source": [
    "# device = \"cpu\"\n",
    "fwd = []\n",
    "for i in range(len(noises)):\n",
    "    print(noises[i])\n",
    "    plt.figure(figsize=(15,15))\n",
    "    plt.axis('off')\n",
    "    num_images = 10\n",
    "    stepsize = int(T/num_images)\n",
    "    for idx in range(0, T, stepsize):\n",
    "        t = torch.Tensor([idx]).type(torch.int64)\n",
    "        plt.subplot(1, int(num_images+1), int((idx/stepsize) + 1))\n",
    "        pred, noise = forward_diffusion_sample(noises[i], t2_new, t)\n",
    "        fwd.append(pred)\n",
    "        show_tensor_image(pred)\n",
    "        plt.title('$q(\\mathbf{x}_{'+str(idx)+'})$')\n",
    "    plt.show()"
   ]
  },
  {
   "cell_type": "code",
   "execution_count": null,
   "metadata": {},
   "outputs": [],
   "source": [
    "for i in range(len(fwd)):\n",
    "    plt.hist(fwd[i][0])\n",
    "    plt.title(f\"FWD {i}\")\n",
    "    plt.show()"
   ]
  },
  {
   "cell_type": "code",
   "execution_count": null,
   "metadata": {},
   "outputs": [],
   "source": [
    "for i in range(len(fwd)):\n",
    "    sns.kdeplot(fwd[i][0], shade=True, label=f\"fwd{i}\")\n",
    "    plt.title(f\"FWD:{i}\")\n",
    "    plt.xlim(-4,4)\n",
    "    plt.legend(\"off\")\n",
    "    plt.show()"
   ]
  },
  {
   "cell_type": "markdown",
   "metadata": {},
   "source": [
    "# Model"
   ]
  },
  {
   "cell_type": "code",
   "execution_count": null,
   "metadata": {},
   "outputs": [],
   "source": [
    "from torch import nn\n",
    "import math\n",
    "\n",
    "\n",
    "class SiLU(nn.Module):\n",
    "    def forward(self, x):\n",
    "        return x * torch.sigmoid(x)\n",
    "\n",
    "\n",
    "class Block(nn.Module):\n",
    "    def __init__(self, in_ch, out_ch, time_emb_dim, up=False):\n",
    "        super().__init__()\n",
    "        self.time_mlp =  nn.Linear(time_emb_dim, out_ch)\n",
    "        if up:\n",
    "            self.conv1 = nn.Conv2d(2*in_ch, out_ch, 3, padding=1)\n",
    "            self.transform = nn.ConvTranspose2d(out_ch, out_ch, 4, 2, 1)\n",
    "        else:\n",
    "            self.conv1 = nn.Conv2d(in_ch, out_ch, 3, padding=1)\n",
    "            self.transform = nn.Conv2d(out_ch, out_ch, 4, 2, 1)\n",
    "        self.conv2 = nn.Conv2d(out_ch, out_ch, 3, padding=1)\n",
    "        self.bnorm1 = nn.BatchNorm2d(out_ch)\n",
    "        self.bnorm2 = nn.BatchNorm2d(out_ch)\n",
    "        self.silu  = nn.SiLU()\n",
    "        \n",
    "    def forward(self, x, t, ):\n",
    "        # First Conv\n",
    "        h = self.bnorm1(self.silu(self.conv1(x)))\n",
    "        # Time embedding\n",
    "        time_emb = self.silu(self.time_mlp(t))\n",
    "        # Extend last 2 dimensions\n",
    "        time_emb = time_emb[(..., ) + (None, ) * 2]\n",
    "        # Add time channel\n",
    "        h = h + time_emb\n",
    "        # Second Conv\n",
    "        h = self.bnorm2(self.silu(self.conv2(h)))\n",
    "        # Down or Upsample\n",
    "        return self.transform(h)\n",
    "\n",
    "\n",
    "class SinusoidalPositionEmbeddings(nn.Module):\n",
    "    def __init__(self, dim):\n",
    "        super().__init__()\n",
    "        self.dim = dim\n",
    "\n",
    "    def forward(self, time):\n",
    "        device = time.device\n",
    "        half_dim = self.dim // 2\n",
    "        embeddings = math.log(10000) / (half_dim - 1)\n",
    "        embeddings = torch.exp(torch.arange(half_dim, device=device) * -embeddings)\n",
    "        embeddings = time[:, None] * embeddings[None, :]\n",
    "        embeddings = torch.cat((embeddings.sin(), embeddings.cos()), dim=-1)\n",
    "        # TODO: Double check the ordering here\n",
    "        return embeddings\n",
    "\n",
    "\n",
    "class SimpleUnet(nn.Module):\n",
    "    \"\"\"\n",
    "    A simplified variant of the Unet architecture.\n",
    "    \"\"\"\n",
    "    def __init__(self):\n",
    "        super().__init__()\n",
    "        image_channels = 1 ## 수정필요\n",
    "        down_channels = (16, 32, 64)\n",
    "        up_channels = (64,32,16)\n",
    "        out_dim = 1\n",
    "        time_emb_dim = 32\n",
    "\n",
    "        # Time embedding\n",
    "        self.time_mlp = nn.Sequential(\n",
    "                SinusoidalPositionEmbeddings(time_emb_dim),\n",
    "                nn.Linear(time_emb_dim, time_emb_dim),\n",
    "                nn.SiLU()\n",
    "            )\n",
    "        \n",
    "        # Initial projection\n",
    "        self.conv0 = nn.Conv2d(image_channels, down_channels[0], kernel_size=3, padding=1)\n",
    "\n",
    "        # Downsample\n",
    "        self.downs = nn.ModuleList([Block(down_channels[i], down_channels[i+1], \\\n",
    "                                    time_emb_dim) \\\n",
    "                    for i in range(len(down_channels)-1)])\n",
    "        # Upsample\n",
    "        self.ups = nn.ModuleList([Block(up_channels[i], up_channels[i+1], \\\n",
    "                                        time_emb_dim, up=True) \\\n",
    "                    for i in range(len(up_channels)-1)])\n",
    "\n",
    "        self.output = nn.Conv2d(up_channels[-1], 1, out_dim)\n",
    "\n",
    "    def forward(self, x, timestep):\n",
    "        # Embedd time\n",
    "        t = self.time_mlp(timestep)\n",
    "        # Initial conv\n",
    "        x = self.conv0(x)\n",
    "        # Unet\n",
    "        residual_inputs = []\n",
    "        for down in self.downs:\n",
    "            x = down(x, t)\n",
    "            residual_inputs.append(x)\n",
    "        for up in self.ups:\n",
    "            residual_x = residual_inputs.pop()\n",
    "            # Add residual x as additional channels\n",
    "            x = torch.cat((x, residual_x), dim=1)           \n",
    "            x = up(x, t)\n",
    "        return self.output(x)\n",
    "\n",
    "model = SimpleUnet()\n",
    "# print(\"Num params: \", sum(p.numel() for p in model.parameters()))\n"
   ]
  },
  {
   "cell_type": "markdown",
   "metadata": {},
   "source": [
    "# Loss"
   ]
  },
  {
   "cell_type": "code",
   "execution_count": null,
   "metadata": {},
   "outputs": [],
   "source": [
    "def image_process(origin, fwd, rvs, target):\n",
    "    origin = origin[0,0,:,:]\n",
    "    fwd = fwd[0,0,:,:]\n",
    "    rvs = rvs[0,0,:,:]\n",
    "    target = target[0,0,:,:]\n",
    "    \n",
    "    plt.figure(figsize=(8,8))\n",
    "    plt.subplot(141)\n",
    "    plt.imshow(origin.detach().cpu(), cmap='jet')\n",
    "    plt.axis(\"off\")\n",
    "    plt.title(\"Original Image\", fontsize=10)\n",
    "    \n",
    "    plt.subplot(142)\n",
    "    plt.imshow(fwd.detach().cpu(), cmap='jet')\n",
    "    plt.axis(\"off\")\n",
    "    plt.title(\"Forward Process\", fontsize=10)\n",
    "    \n",
    "    plt.subplot(143)\n",
    "    plt.imshow(rvs.detach().cpu(), cmap='jet')\n",
    "    plt.title(\"Reverse Process\", fontsize=10)\n",
    "    plt.axis(\"off\")\n",
    "    \n",
    "    plt.subplot(144)\n",
    "    plt.imshow(np.abs(target.detach().cpu() - rvs.detach().cpu()), cmap='jet')\n",
    "    plt.title(\"Diff. N4 - Reverse\", fontsize=10)\n",
    "    plt.axis(\"off\")\n",
    "    \n",
    "    plt.show()"
   ]
  },
  {
   "cell_type": "markdown",
   "metadata": {},
   "source": [
    "# Train_Gaussian_noise"
   ]
  },
  {
   "cell_type": "code",
   "execution_count": null,
   "metadata": {},
   "outputs": [],
   "source": [
    "from IQA_pytorch import SSIM, utils\n",
    "ssim = SSIM(channels=1)"
   ]
  },
  {
   "cell_type": "code",
   "execution_count": null,
   "metadata": {},
   "outputs": [],
   "source": [
    "dice = DiceLoss(jaccard=False, reduction='mean', smooth_nr=1e-9, smooth_dr=1e-09)\n",
    "mse = torch.nn.MSELoss(reduction='mean')"
   ]
  },
  {
   "cell_type": "code",
   "execution_count": null,
   "metadata": {
    "scrolled": false
   },
   "outputs": [],
   "source": [
    "from torch.optim import Adam\n",
    "from time import time\n",
    "\n",
    "device = \"cuda\" if torch.cuda.is_available() else \"cpu\"\n",
    "model.to(device)\n",
    "optimizer = Adam(model.parameters(), lr=1e-08)\n",
    "epochs = 256\n",
    "l2,dices,sim = [],[],[]\n",
    "\n",
    "for epoch in range(epochs):\n",
    "    start = time()\n",
    "    for step, batch in enumerate(train_loader):\n",
    "        \n",
    "        optimizer.zero_grad()\n",
    "        \n",
    "        corrupted = batch['orig'].to(device)\n",
    "        n4 = batch['n4'].to(device)\n",
    "        \n",
    "        t_step = torch.randint(0, T, (BATCH_SIZE,), device=device).long()\n",
    "\n",
    "        n4_diff, noise = forward_diffusion_sample(noises[0], corrupted, t_step, device)\n",
    "        n4_pred = model(n4_diff, t_step)\n",
    "        l2_loss = mse(n4_pred, n4)\n",
    "        dice_loss = dice(n4_pred, n4)\n",
    "        l2.append(l2_loss.item())\n",
    "        dices.append(dice_loss.item())\n",
    "        psnr = 10*torch.log10(torch.tensor(1/l2_loss.item()))\n",
    "        ssim_loss = ssim(n4_pred, n4, as_loss=False)\n",
    "        ssim_loss = torch.mean(ssim_loss)\n",
    "        sim.append(ssim_loss)\n",
    "        \n",
    "        l2_loss.backward()\n",
    "        \n",
    "        optimizer.step()\n",
    "\n",
    "        if epoch % 32 == 0 and step == 0:\n",
    "            print(f\"Epoch {epoch} | L2_loss: {l2_loss.item():.2f} Dice_loss: {dice_loss.item():.2f} |\\n        | PSNR: {psnr.item():.2f} AVG_SSIM: {ssim_loss.item():.2f}\")\n",
    "            image_process(corrupted, n4_diff, n4_pred, n4)\n",
    "           \n",
    "    end = time()\n",
    "    print(f'Epoch {epoch}: time elapsed: ', end-start)\n"
   ]
  },
  {
   "cell_type": "code",
   "execution_count": null,
   "metadata": {},
   "outputs": [],
   "source": [
    "import torch, gc\n",
    "gc.collect()\n",
    "torch.cuda.empty_cache()"
   ]
  },
  {
   "cell_type": "code",
   "execution_count": null,
   "metadata": {},
   "outputs": [],
   "source": [
    "plt.figure(figsize=(15,6))\n",
    "plt.plot(l2, label=\"l2\")\n",
    "plt.plot(dices, label=\"DICE\")\n",
    "plt.xlim(0,513)\n",
    "plt.xlabel(\"Epoch\", fontsize=12)\n",
    "plt.ylabel(\"Loss\", fontsize=12)\n",
    "plt.legend()\n",
    "plt.show()"
   ]
  },
  {
   "cell_type": "markdown",
   "metadata": {},
   "source": [
    "# Test_Gaussian_Noise"
   ]
  },
  {
   "cell_type": "code",
   "execution_count": null,
   "metadata": {},
   "outputs": [],
   "source": [
    "first(ts_loader)['orig'].shape"
   ]
  },
  {
   "cell_type": "code",
   "execution_count": null,
   "metadata": {},
   "outputs": [],
   "source": [
    "t_step = torch.tensor([0]).long().cuda()\n",
    "t_step"
   ]
  },
  {
   "cell_type": "code",
   "execution_count": null,
   "metadata": {},
   "outputs": [],
   "source": [
    "def test_img_process(origin, n4, target):\n",
    "    origin = origin[0,0,:,:]\n",
    "    n4 = n4[0,0,:,:]\n",
    "    target = target[0,0,:,:]\n",
    "    \n",
    "    plt.figure(figsize=(8,8))\n",
    "    plt.subplot(141)\n",
    "    plt.imshow(origin.detach().cpu(), cmap='gray')\n",
    "    plt.axis(\"off\")\n",
    "    plt.title(\"Original Image\", fontsize=10)\n",
    "    \n",
    "    plt.subplot(142)\n",
    "    plt.imshow(n4.detach().cpu(), cmap='gray')\n",
    "    plt.axis(\"off\")\n",
    "    plt.title(\"N4\", fontsize=10)\n",
    "    \n",
    "    plt.subplot(143)\n",
    "    plt.imshow(target.detach().cpu(), cmap='gray')\n",
    "    plt.title(\"Model\", fontsize=10)\n",
    "    plt.axis(\"off\")\n",
    "    \n",
    "    plt.subplot(144)\n",
    "    plt.imshow(np.abs(n4.detach().cpu() - target.detach().cpu()), cmap='gray')\n",
    "    plt.title(\"N4 - Model\", fontsize=10)\n",
    "    plt.axis(\"off\")\n",
    "    \n",
    "    plt.show()"
   ]
  },
  {
   "cell_type": "code",
   "execution_count": null,
   "metadata": {
    "scrolled": false
   },
   "outputs": [],
   "source": [
    "for step, batch in enumerate(ts_loader):\n",
    "    \n",
    "    model.eval()\n",
    "\n",
    "    corrupted = batch['orig'].to(device)\n",
    "    bf = batch['bf'].to(device)\n",
    "    n4 = batch['n4'].to(device)\n",
    "    \n",
    "#     corrupted_img.append(corrupted.detach().cpu())\n",
    "#     bf_img.append(bf.detach().cpu())\n",
    "#     n4_img.append(n4.detach().cpu())\n",
    "\n",
    "#     t_step = torch.randint(0, T, (ts_BATCH_SIZE,), device=device).long()\n",
    "    t_step = torch.tensor([0]).long().cuda()\n",
    "    n4_diff, noise = forward_diffusion_sample(corrupted, t_step, device)\n",
    "    n4_pred = model(n4_diff, t_step)\n",
    "    \n",
    "    l2_loss = mse(n4_pred, n4)\n",
    "    dice_loss = dice(n4_pred, n4)\n",
    "    data_range = torch.max(n4) - torch.min(n4)\n",
    "    psnr_loss = 10 * torch.log10((data_range ** 2) / l2_loss)\n",
    "    ssim_loss = ssim(n4_pred, n4, as_loss=False)\n",
    "    \n",
    "    \n",
    "    if step % 100 == 0:\n",
    "        print(f\"step {step} | MSE: {l2_loss.item():.4f} DICE: {dice_loss.item():.4f} PSNR : {psnr_loss.item():.4f} SSIM : {ssim_loss.item():.4f}\")\n",
    "        test_img_process(corrupted, n4, n4_pred)"
   ]
  },
  {
   "cell_type": "code",
   "execution_count": null,
   "metadata": {},
   "outputs": [],
   "source": []
  }
 ],
 "metadata": {
  "kernelspec": {
   "display_name": "Python 3 (ipykernel)",
   "language": "python",
   "name": "python3"
  },
  "language_info": {
   "codemirror_mode": {
    "name": "ipython",
    "version": 3
   },
   "file_extension": ".py",
   "mimetype": "text/x-python",
   "name": "python",
   "nbconvert_exporter": "python",
   "pygments_lexer": "ipython3",
   "version": "3.8.13"
  },
  "toc": {
   "base_numbering": 1,
   "nav_menu": {},
   "number_sections": true,
   "sideBar": true,
   "skip_h1_title": false,
   "title_cell": "Table of Contents",
   "title_sidebar": "Contents",
   "toc_cell": false,
   "toc_position": {},
   "toc_section_display": true,
   "toc_window_display": false
  },
  "varInspector": {
   "cols": {
    "lenName": 16,
    "lenType": 16,
    "lenVar": 40
   },
   "kernels_config": {
    "python": {
     "delete_cmd_postfix": "",
     "delete_cmd_prefix": "del ",
     "library": "var_list.py",
     "varRefreshCmd": "print(var_dic_list())"
    },
    "r": {
     "delete_cmd_postfix": ") ",
     "delete_cmd_prefix": "rm(",
     "library": "var_list.r",
     "varRefreshCmd": "cat(var_dic_list()) "
    }
   },
   "types_to_exclude": [
    "module",
    "function",
    "builtin_function_or_method",
    "instance",
    "_Feature"
   ],
   "window_display": false
  }
 },
 "nbformat": 4,
 "nbformat_minor": 4
}
